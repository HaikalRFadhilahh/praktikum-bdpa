{
 "cells": [
  {
   "cell_type": "markdown",
   "id": "55832f78",
   "metadata": {},
   "source": [
    "# Pearson Correlation\n",
    "\n",
    "### Nama : Haikal Raditya Fadhilah\n",
    "### NIM : 21.11.3910\n",
    "### Kelas : Informatika 02"
   ]
  },
  {
   "cell_type": "code",
   "execution_count": 1,
   "id": "d3e3514c",
   "metadata": {},
   "outputs": [],
   "source": [
    "import math\n",
    "import scipy.stats\n",
    "import pandas as pd\n",
    "import matplotlib.pyplot as plt"
   ]
  },
  {
   "cell_type": "code",
   "execution_count": 2,
   "id": "f29fbd1a",
   "metadata": {},
   "outputs": [],
   "source": [
    "JamKerja = [9,7,9,10,5,6,7,6,9,7]\n",
    "Target = [85,77,88,99,55,65,87,71,89,67]"
   ]
  },
  {
   "cell_type": "markdown",
   "id": "d7fc59ac",
   "metadata": {},
   "source": [
    "## Mengubah Array Menjadi DataFrame"
   ]
  },
  {
   "cell_type": "code",
   "execution_count": 3,
   "id": "91f89290",
   "metadata": {},
   "outputs": [
    {
     "data": {
      "text/html": [
       "<div>\n",
       "<style scoped>\n",
       "    .dataframe tbody tr th:only-of-type {\n",
       "        vertical-align: middle;\n",
       "    }\n",
       "\n",
       "    .dataframe tbody tr th {\n",
       "        vertical-align: top;\n",
       "    }\n",
       "\n",
       "    .dataframe thead th {\n",
       "        text-align: right;\n",
       "    }\n",
       "</style>\n",
       "<table border=\"1\" class=\"dataframe\">\n",
       "  <thead>\n",
       "    <tr style=\"text-align: right;\">\n",
       "      <th></th>\n",
       "      <th>x</th>\n",
       "      <th>y</th>\n",
       "    </tr>\n",
       "  </thead>\n",
       "  <tbody>\n",
       "    <tr>\n",
       "      <th>0</th>\n",
       "      <td>9</td>\n",
       "      <td>85</td>\n",
       "    </tr>\n",
       "    <tr>\n",
       "      <th>1</th>\n",
       "      <td>7</td>\n",
       "      <td>77</td>\n",
       "    </tr>\n",
       "    <tr>\n",
       "      <th>2</th>\n",
       "      <td>9</td>\n",
       "      <td>88</td>\n",
       "    </tr>\n",
       "    <tr>\n",
       "      <th>3</th>\n",
       "      <td>10</td>\n",
       "      <td>99</td>\n",
       "    </tr>\n",
       "    <tr>\n",
       "      <th>4</th>\n",
       "      <td>5</td>\n",
       "      <td>55</td>\n",
       "    </tr>\n",
       "    <tr>\n",
       "      <th>5</th>\n",
       "      <td>6</td>\n",
       "      <td>65</td>\n",
       "    </tr>\n",
       "    <tr>\n",
       "      <th>6</th>\n",
       "      <td>7</td>\n",
       "      <td>87</td>\n",
       "    </tr>\n",
       "    <tr>\n",
       "      <th>7</th>\n",
       "      <td>6</td>\n",
       "      <td>71</td>\n",
       "    </tr>\n",
       "    <tr>\n",
       "      <th>8</th>\n",
       "      <td>9</td>\n",
       "      <td>89</td>\n",
       "    </tr>\n",
       "    <tr>\n",
       "      <th>9</th>\n",
       "      <td>7</td>\n",
       "      <td>67</td>\n",
       "    </tr>\n",
       "  </tbody>\n",
       "</table>\n",
       "</div>"
      ],
      "text/plain": [
       "    x   y\n",
       "0   9  85\n",
       "1   7  77\n",
       "2   9  88\n",
       "3  10  99\n",
       "4   5  55\n",
       "5   6  65\n",
       "6   7  87\n",
       "7   6  71\n",
       "8   9  89\n",
       "9   7  67"
      ]
     },
     "execution_count": 3,
     "metadata": {},
     "output_type": "execute_result"
    }
   ],
   "source": [
    "df = pd.DataFrame(list(zip(JamKerja,Target)), columns=['x','y'])\n",
    "df"
   ]
  },
  {
   "cell_type": "markdown",
   "id": "195cf032",
   "metadata": {},
   "source": [
    "## Menambah Kolom "
   ]
  },
  {
   "cell_type": "code",
   "execution_count": 4,
   "id": "41c5635e",
   "metadata": {},
   "outputs": [
    {
     "data": {
      "text/html": [
       "<div>\n",
       "<style scoped>\n",
       "    .dataframe tbody tr th:only-of-type {\n",
       "        vertical-align: middle;\n",
       "    }\n",
       "\n",
       "    .dataframe tbody tr th {\n",
       "        vertical-align: top;\n",
       "    }\n",
       "\n",
       "    .dataframe thead th {\n",
       "        text-align: right;\n",
       "    }\n",
       "</style>\n",
       "<table border=\"1\" class=\"dataframe\">\n",
       "  <thead>\n",
       "    <tr style=\"text-align: right;\">\n",
       "      <th></th>\n",
       "      <th>x</th>\n",
       "      <th>y</th>\n",
       "      <th>xy</th>\n",
       "      <th>x2</th>\n",
       "      <th>y2</th>\n",
       "    </tr>\n",
       "  </thead>\n",
       "  <tbody>\n",
       "    <tr>\n",
       "      <th>0</th>\n",
       "      <td>9</td>\n",
       "      <td>85</td>\n",
       "      <td>765</td>\n",
       "      <td>81</td>\n",
       "      <td>7225</td>\n",
       "    </tr>\n",
       "    <tr>\n",
       "      <th>1</th>\n",
       "      <td>7</td>\n",
       "      <td>77</td>\n",
       "      <td>539</td>\n",
       "      <td>49</td>\n",
       "      <td>5929</td>\n",
       "    </tr>\n",
       "    <tr>\n",
       "      <th>2</th>\n",
       "      <td>9</td>\n",
       "      <td>88</td>\n",
       "      <td>792</td>\n",
       "      <td>81</td>\n",
       "      <td>7744</td>\n",
       "    </tr>\n",
       "    <tr>\n",
       "      <th>3</th>\n",
       "      <td>10</td>\n",
       "      <td>99</td>\n",
       "      <td>990</td>\n",
       "      <td>100</td>\n",
       "      <td>9801</td>\n",
       "    </tr>\n",
       "    <tr>\n",
       "      <th>4</th>\n",
       "      <td>5</td>\n",
       "      <td>55</td>\n",
       "      <td>275</td>\n",
       "      <td>25</td>\n",
       "      <td>3025</td>\n",
       "    </tr>\n",
       "    <tr>\n",
       "      <th>5</th>\n",
       "      <td>6</td>\n",
       "      <td>65</td>\n",
       "      <td>390</td>\n",
       "      <td>36</td>\n",
       "      <td>4225</td>\n",
       "    </tr>\n",
       "    <tr>\n",
       "      <th>6</th>\n",
       "      <td>7</td>\n",
       "      <td>87</td>\n",
       "      <td>609</td>\n",
       "      <td>49</td>\n",
       "      <td>7569</td>\n",
       "    </tr>\n",
       "    <tr>\n",
       "      <th>7</th>\n",
       "      <td>6</td>\n",
       "      <td>71</td>\n",
       "      <td>426</td>\n",
       "      <td>36</td>\n",
       "      <td>5041</td>\n",
       "    </tr>\n",
       "    <tr>\n",
       "      <th>8</th>\n",
       "      <td>9</td>\n",
       "      <td>89</td>\n",
       "      <td>801</td>\n",
       "      <td>81</td>\n",
       "      <td>7921</td>\n",
       "    </tr>\n",
       "    <tr>\n",
       "      <th>9</th>\n",
       "      <td>7</td>\n",
       "      <td>67</td>\n",
       "      <td>469</td>\n",
       "      <td>49</td>\n",
       "      <td>4489</td>\n",
       "    </tr>\n",
       "  </tbody>\n",
       "</table>\n",
       "</div>"
      ],
      "text/plain": [
       "    x   y   xy   x2    y2\n",
       "0   9  85  765   81  7225\n",
       "1   7  77  539   49  5929\n",
       "2   9  88  792   81  7744\n",
       "3  10  99  990  100  9801\n",
       "4   5  55  275   25  3025\n",
       "5   6  65  390   36  4225\n",
       "6   7  87  609   49  7569\n",
       "7   6  71  426   36  5041\n",
       "8   9  89  801   81  7921\n",
       "9   7  67  469   49  4489"
      ]
     },
     "execution_count": 4,
     "metadata": {},
     "output_type": "execute_result"
    }
   ],
   "source": [
    "df = df.assign(xy = lambda x:(df.x * df.y))\n",
    "df = df.assign(x2 = lambda x:(df.x * df.x))\n",
    "df = df.assign(y2 = lambda x:(df.y * df.y))\n",
    "df"
   ]
  },
  {
   "cell_type": "markdown",
   "id": "1b51f84f",
   "metadata": {},
   "source": [
    "## Menghitung Pearson Correlation"
   ]
  },
  {
   "cell_type": "code",
   "execution_count": 5,
   "id": "d8821aee",
   "metadata": {},
   "outputs": [],
   "source": [
    "n = len(df.x)\n",
    "sig_x = sum(df.x)\n",
    "sig_y = sum(df.y)\n",
    "sig_xy = sum(df.xy)\n",
    "sig_x2 = sum(df.x2)\n",
    "sig_y2 = sum(df.y2)"
   ]
  },
  {
   "cell_type": "code",
   "execution_count": 6,
   "id": "64ed5b57",
   "metadata": {},
   "outputs": [
    {
     "name": "stdout",
     "output_type": "stream",
     "text": [
      "Pearson Correlation :  0.9098837348537413\n"
     ]
    }
   ],
   "source": [
    "a = (n*sig_xy) - (sig_x * sig_y)\n",
    "b = (n*sig_x2) - (sig_x * sig_x)\n",
    "c = (n*sig_y2) - (sig_y * sig_y)\n",
    "\n",
    "r = a/math.sqrt(b*c)\n",
    "print (\"Pearson Correlation : \" , r)"
   ]
  },
  {
   "cell_type": "markdown",
   "id": "f78fdfd8",
   "metadata": {},
   "source": [
    "### Jenis Korelasi : Korelasi Pearson\n",
    "### Nilai Korelasi : Korelasi Linear Positif"
   ]
  },
  {
   "cell_type": "markdown",
   "id": "a701a300",
   "metadata": {},
   "source": [
    "## Membuat Grafik Scatter Dengan Matplotlib"
   ]
  },
  {
   "cell_type": "code",
   "execution_count": 7,
   "id": "ae18e64a",
   "metadata": {},
   "outputs": [
    {
     "data": {
      "image/png": "[encoded data removed]",
      "text/plain": [
       "<Figure size 432x288 with 1 Axes>"
      ]
     },
     "metadata": {
      "needs_background": "light"
     },
     "output_type": "display_data"
    }
   ],
   "source": [
    "fig = plt.figure()\n",
    "plt.scatter(df.x,df.y)\n",
    "plt.grid()\n",
    "plt.xlabel(\"Jam Kerja\")\n",
    "plt.ylabel(\"Target\")\n",
    "\n",
    "plt.show()"
   ]
  }
 ],
 "metadata": {
  "kernelspec": {
   "display_name": "Python 3 (ipykernel)",
   "language": "python",
   "name": "python3"
  },
  "language_info": {
   "codemirror_mode": {
    "name": "ipython",
    "version": 3
   },
   "file_extension": ".py",
   "mimetype": "text/x-python",
   "name": "python",
   "nbconvert_exporter": "python",
   "pygments_lexer": "ipython3",
   "version": "3.9.7"
  }
 },
 "nbformat": 4,
 "nbformat_minor": 5
}
