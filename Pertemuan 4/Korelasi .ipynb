{
 "cells": [
  {
   "cell_type": "markdown",
   "id": "5ecbf11f",
   "metadata": {},
   "source": [
    "## Korelasi"
   ]
  },
  {
   "cell_type": "code",
   "execution_count": 1,
   "id": "a844992a",
   "metadata": {},
   "outputs": [],
   "source": [
    "import math\n",
    "import scipy.stats\n",
    "import pandas as pd\n",
    "import matplotlib.pyplot as plt"
   ]
  },
  {
   "cell_type": "code",
   "execution_count": 2,
   "id": "2175a396",
   "metadata": {},
   "outputs": [],
   "source": [
    "x = [0.5,1,1.75,2.5,3.25,4,5.5,5.75,6.5]\n",
    "y = [5,10,12.5,20,30,35,40,42.5,50]"
   ]
  },
  {
   "cell_type": "code",
   "execution_count": 3,
   "id": "1e8d0ff6",
   "metadata": {},
   "outputs": [
    {
     "data": {
      "text/html": [
       "<div>\n",
       "<style scoped>\n",
       "    .dataframe tbody tr th:only-of-type {\n",
       "        vertical-align: middle;\n",
       "    }\n",
       "\n",
       "    .dataframe tbody tr th {\n",
       "        vertical-align: top;\n",
       "    }\n",
       "\n",
       "    .dataframe thead th {\n",
       "        text-align: right;\n",
       "    }\n",
       "</style>\n",
       "<table border=\"1\" class=\"dataframe\">\n",
       "  <thead>\n",
       "    <tr style=\"text-align: right;\">\n",
       "      <th></th>\n",
       "      <th>x</th>\n",
       "      <th>y</th>\n",
       "    </tr>\n",
       "  </thead>\n",
       "  <tbody>\n",
       "    <tr>\n",
       "      <th>0</th>\n",
       "      <td>0.50</td>\n",
       "      <td>5.0</td>\n",
       "    </tr>\n",
       "    <tr>\n",
       "      <th>1</th>\n",
       "      <td>1.00</td>\n",
       "      <td>10.0</td>\n",
       "    </tr>\n",
       "    <tr>\n",
       "      <th>2</th>\n",
       "      <td>1.75</td>\n",
       "      <td>12.5</td>\n",
       "    </tr>\n",
       "    <tr>\n",
       "      <th>3</th>\n",
       "      <td>2.50</td>\n",
       "      <td>20.0</td>\n",
       "    </tr>\n",
       "    <tr>\n",
       "      <th>4</th>\n",
       "      <td>3.25</td>\n",
       "      <td>30.0</td>\n",
       "    </tr>\n",
       "    <tr>\n",
       "      <th>5</th>\n",
       "      <td>4.00</td>\n",
       "      <td>35.0</td>\n",
       "    </tr>\n",
       "    <tr>\n",
       "      <th>6</th>\n",
       "      <td>5.50</td>\n",
       "      <td>40.0</td>\n",
       "    </tr>\n",
       "    <tr>\n",
       "      <th>7</th>\n",
       "      <td>5.75</td>\n",
       "      <td>42.5</td>\n",
       "    </tr>\n",
       "    <tr>\n",
       "      <th>8</th>\n",
       "      <td>6.50</td>\n",
       "      <td>50.0</td>\n",
       "    </tr>\n",
       "  </tbody>\n",
       "</table>\n",
       "</div>"
      ],
      "text/plain": [
       "      x     y\n",
       "0  0.50   5.0\n",
       "1  1.00  10.0\n",
       "2  1.75  12.5\n",
       "3  2.50  20.0\n",
       "4  3.25  30.0\n",
       "5  4.00  35.0\n",
       "6  5.50  40.0\n",
       "7  5.75  42.5\n",
       "8  6.50  50.0"
      ]
     },
     "execution_count": 3,
     "metadata": {},
     "output_type": "execute_result"
    }
   ],
   "source": [
    "df = pd.DataFrame(list(zip(x,y)), columns=['x','y'])\n",
    "df"
   ]
  },
  {
   "cell_type": "markdown",
   "id": "b4ad5dcb",
   "metadata": {},
   "source": [
    "## Menambahkan Kolom XY,X2,Y2"
   ]
  },
  {
   "cell_type": "code",
   "execution_count": 4,
   "id": "4039b36d",
   "metadata": {},
   "outputs": [
    {
     "data": {
      "text/html": [
       "<div>\n",
       "<style scoped>\n",
       "    .dataframe tbody tr th:only-of-type {\n",
       "        vertical-align: middle;\n",
       "    }\n",
       "\n",
       "    .dataframe tbody tr th {\n",
       "        vertical-align: top;\n",
       "    }\n",
       "\n",
       "    .dataframe thead th {\n",
       "        text-align: right;\n",
       "    }\n",
       "</style>\n",
       "<table border=\"1\" class=\"dataframe\">\n",
       "  <thead>\n",
       "    <tr style=\"text-align: right;\">\n",
       "      <th></th>\n",
       "      <th>x</th>\n",
       "      <th>y</th>\n",
       "      <th>xy</th>\n",
       "      <th>x2</th>\n",
       "      <th>y2</th>\n",
       "    </tr>\n",
       "  </thead>\n",
       "  <tbody>\n",
       "    <tr>\n",
       "      <th>0</th>\n",
       "      <td>0.50</td>\n",
       "      <td>5.0</td>\n",
       "      <td>2.500</td>\n",
       "      <td>0.2500</td>\n",
       "      <td>25.00</td>\n",
       "    </tr>\n",
       "    <tr>\n",
       "      <th>1</th>\n",
       "      <td>1.00</td>\n",
       "      <td>10.0</td>\n",
       "      <td>10.000</td>\n",
       "      <td>1.0000</td>\n",
       "      <td>100.00</td>\n",
       "    </tr>\n",
       "    <tr>\n",
       "      <th>2</th>\n",
       "      <td>1.75</td>\n",
       "      <td>12.5</td>\n",
       "      <td>21.875</td>\n",
       "      <td>3.0625</td>\n",
       "      <td>156.25</td>\n",
       "    </tr>\n",
       "    <tr>\n",
       "      <th>3</th>\n",
       "      <td>2.50</td>\n",
       "      <td>20.0</td>\n",
       "      <td>50.000</td>\n",
       "      <td>6.2500</td>\n",
       "      <td>400.00</td>\n",
       "    </tr>\n",
       "    <tr>\n",
       "      <th>4</th>\n",
       "      <td>3.25</td>\n",
       "      <td>30.0</td>\n",
       "      <td>97.500</td>\n",
       "      <td>10.5625</td>\n",
       "      <td>900.00</td>\n",
       "    </tr>\n",
       "    <tr>\n",
       "      <th>5</th>\n",
       "      <td>4.00</td>\n",
       "      <td>35.0</td>\n",
       "      <td>140.000</td>\n",
       "      <td>16.0000</td>\n",
       "      <td>1225.00</td>\n",
       "    </tr>\n",
       "    <tr>\n",
       "      <th>6</th>\n",
       "      <td>5.50</td>\n",
       "      <td>40.0</td>\n",
       "      <td>220.000</td>\n",
       "      <td>30.2500</td>\n",
       "      <td>1600.00</td>\n",
       "    </tr>\n",
       "    <tr>\n",
       "      <th>7</th>\n",
       "      <td>5.75</td>\n",
       "      <td>42.5</td>\n",
       "      <td>244.375</td>\n",
       "      <td>33.0625</td>\n",
       "      <td>1806.25</td>\n",
       "    </tr>\n",
       "    <tr>\n",
       "      <th>8</th>\n",
       "      <td>6.50</td>\n",
       "      <td>50.0</td>\n",
       "      <td>325.000</td>\n",
       "      <td>42.2500</td>\n",
       "      <td>2500.00</td>\n",
       "    </tr>\n",
       "  </tbody>\n",
       "</table>\n",
       "</div>"
      ],
      "text/plain": [
       "      x     y       xy       x2       y2\n",
       "0  0.50   5.0    2.500   0.2500    25.00\n",
       "1  1.00  10.0   10.000   1.0000   100.00\n",
       "2  1.75  12.5   21.875   3.0625   156.25\n",
       "3  2.50  20.0   50.000   6.2500   400.00\n",
       "4  3.25  30.0   97.500  10.5625   900.00\n",
       "5  4.00  35.0  140.000  16.0000  1225.00\n",
       "6  5.50  40.0  220.000  30.2500  1600.00\n",
       "7  5.75  42.5  244.375  33.0625  1806.25\n",
       "8  6.50  50.0  325.000  42.2500  2500.00"
      ]
     },
     "execution_count": 4,
     "metadata": {},
     "output_type": "execute_result"
    }
   ],
   "source": [
    "df = df.assign(xy = lambda x:(df.x * df.y))\n",
    "df = df.assign(x2 = lambda x:(df.x * df.x))\n",
    "df = df.assign(y2 = lambda x:(df.y * df.y))\n",
    "df"
   ]
  },
  {
   "cell_type": "markdown",
   "id": "e4fc2864",
   "metadata": {},
   "source": [
    "## Menghitung Pearson Correlation"
   ]
  },
  {
   "cell_type": "code",
   "execution_count": 5,
   "id": "6e58c154",
   "metadata": {},
   "outputs": [],
   "source": [
    "n = len(df.x)\n",
    "sig_x = sum(df.x)\n",
    "sig_y = sum(df.y)\n",
    "sig_xy = sum(df.xy)\n",
    "sig_x2 = sum(df.x2)\n",
    "sig_y2 = sum(df.y2)"
   ]
  },
  {
   "cell_type": "code",
   "execution_count": 6,
   "id": "ae0c19d9",
   "metadata": {},
   "outputs": [
    {
     "name": "stdout",
     "output_type": "stream",
     "text": [
      "Pearson Correlation :  0.9888634146958679\n"
     ]
    }
   ],
   "source": [
    "a = (n*sig_xy) - (sig_x * sig_y)\n",
    "b = (n*sig_x2) - (sig_x * sig_x)\n",
    "c = (n*sig_y2) - (sig_y * sig_y)\n",
    "\n",
    "r = a/math.sqrt(b*c)\n",
    "print (\"Pearson Correlation : \" , r)"
   ]
  },
  {
   "cell_type": "markdown",
   "id": "23b4a8be",
   "metadata": {},
   "source": [
    "### Jenis Korelasi : Korelasi Pearson\n",
    "### Nilai Korelasi : Korelasi Linear Positif"
   ]
  },
  {
   "cell_type": "markdown",
   "id": "cc1b32c9",
   "metadata": {},
   "source": [
    "## Membuat Scatter Plot Pada DataFrame"
   ]
  },
  {
   "cell_type": "code",
   "execution_count": 7,
   "id": "44e3f119",
   "metadata": {},
   "outputs": [
    {
     "data": {
      "image/png": "[encoded data removed]",
      "text/plain": [
       "<Figure size 432x288 with 1 Axes>"
      ]
     },
     "metadata": {
      "needs_background": "light"
     },
     "output_type": "display_data"
    }
   ],
   "source": [
    "fig = plt.figure()\n",
    "plt.scatter(df.x,df.y)\n",
    "plt.grid()\n",
    "plt.xlabel(\"Biaya Iklan\")\n",
    "plt.ylabel(\"Penjualan\")\n",
    "\n",
    "plt.show()"
   ]
  }
 ],
 "metadata": {
  "kernelspec": {
   "display_name": "Python 3 (ipykernel)",
   "language": "python",
   "name": "python3"
  },
  "language_info": {
   "codemirror_mode": {
    "name": "ipython",
    "version": 3
   },
   "file_extension": ".py",
   "mimetype": "text/x-python",
   "name": "python",
   "nbconvert_exporter": "python",
   "pygments_lexer": "ipython3",
   "version": "3.9.7"
  }
 },
 "nbformat": 4,
 "nbformat_minor": 5
}
