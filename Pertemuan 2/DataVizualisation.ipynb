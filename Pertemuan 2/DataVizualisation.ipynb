{
 "cells": [
  {
   "cell_type": "markdown",
   "id": "77b48b9e",
   "metadata": {},
   "source": [
    "## Data Visualization\n",
    "\n",
    "- Menggunakan Tipe Data Dictionary dan Pandas Dataframe"
   ]
  },
  {
   "cell_type": "code",
   "execution_count": 1,
   "id": "3d471554",
   "metadata": {},
   "outputs": [],
   "source": [
    "import pandas as pd\n",
    "import numpy as np\n",
    "import random as rd\n",
    "import matplotlib.pyplot as plt"
   ]
  },
  {
   "cell_type": "code",
   "execution_count": 2,
   "id": "e14f6515",
   "metadata": {},
   "outputs": [],
   "source": [
    "# Inialisasi Dataframe\n",
    "#creating Custom Data\n",
    "\n",
    "randomdata = {\n",
    "    \"brand\" : [rd.choice(['Puma','Nike','Adidas']) for i in range(100)],\n",
    "    \"price\" : [rd.choice(range(400000,3000000)) for i in range(100)],\n",
    "    \"qty\" : [rd.choice(range(1,5)) for i in range(100)],\n",
    "    \"month\" : [rd.choice(['1Jan','2Feb','3Mar','4Apr','5May','6Jun','7Jul']) for i in range(100)]\n",
    "}"
   ]
  },
  {
   "cell_type": "code",
   "execution_count": 3,
   "id": "72954b35",
   "metadata": {},
   "outputs": [],
   "source": [
    "df = pd.DataFrame(randomdata)"
   ]
  },
  {
   "cell_type": "code",
   "execution_count": 4,
   "id": "94cc84e3",
   "metadata": {},
   "outputs": [
    {
     "data": {
      "text/plain": [
       "(100, 4)"
      ]
     },
     "execution_count": 4,
     "metadata": {},
     "output_type": "execute_result"
    }
   ],
   "source": [
    "df.shape"
   ]
  },
  {
   "cell_type": "code",
   "execution_count": 5,
   "id": "a4a44b4b",
   "metadata": {},
   "outputs": [
    {
     "data": {
      "text/html": [
       "<div>\n",
       "<style scoped>\n",
       "    .dataframe tbody tr th:only-of-type {\n",
       "        vertical-align: middle;\n",
       "    }\n",
       "\n",
       "    .dataframe tbody tr th {\n",
       "        vertical-align: top;\n",
       "    }\n",
       "\n",
       "    .dataframe thead th {\n",
       "        text-align: right;\n",
       "    }\n",
       "</style>\n",
       "<table border=\"1\" class=\"dataframe\">\n",
       "  <thead>\n",
       "    <tr style=\"text-align: right;\">\n",
       "      <th></th>\n",
       "      <th>brand</th>\n",
       "      <th>price</th>\n",
       "      <th>qty</th>\n",
       "      <th>month</th>\n",
       "    </tr>\n",
       "  </thead>\n",
       "  <tbody>\n",
       "    <tr>\n",
       "      <th>0</th>\n",
       "      <td>Puma</td>\n",
       "      <td>1658854</td>\n",
       "      <td>4</td>\n",
       "      <td>4Apr</td>\n",
       "    </tr>\n",
       "    <tr>\n",
       "      <th>1</th>\n",
       "      <td>Adidas</td>\n",
       "      <td>1713096</td>\n",
       "      <td>3</td>\n",
       "      <td>4Apr</td>\n",
       "    </tr>\n",
       "    <tr>\n",
       "      <th>2</th>\n",
       "      <td>Adidas</td>\n",
       "      <td>1102786</td>\n",
       "      <td>4</td>\n",
       "      <td>1Jan</td>\n",
       "    </tr>\n",
       "    <tr>\n",
       "      <th>3</th>\n",
       "      <td>Adidas</td>\n",
       "      <td>1881251</td>\n",
       "      <td>1</td>\n",
       "      <td>2Feb</td>\n",
       "    </tr>\n",
       "    <tr>\n",
       "      <th>4</th>\n",
       "      <td>Adidas</td>\n",
       "      <td>2246086</td>\n",
       "      <td>3</td>\n",
       "      <td>4Apr</td>\n",
       "    </tr>\n",
       "    <tr>\n",
       "      <th>...</th>\n",
       "      <td>...</td>\n",
       "      <td>...</td>\n",
       "      <td>...</td>\n",
       "      <td>...</td>\n",
       "    </tr>\n",
       "    <tr>\n",
       "      <th>95</th>\n",
       "      <td>Puma</td>\n",
       "      <td>609922</td>\n",
       "      <td>3</td>\n",
       "      <td>7Jul</td>\n",
       "    </tr>\n",
       "    <tr>\n",
       "      <th>96</th>\n",
       "      <td>Nike</td>\n",
       "      <td>2569791</td>\n",
       "      <td>1</td>\n",
       "      <td>5May</td>\n",
       "    </tr>\n",
       "    <tr>\n",
       "      <th>97</th>\n",
       "      <td>Puma</td>\n",
       "      <td>1221616</td>\n",
       "      <td>4</td>\n",
       "      <td>7Jul</td>\n",
       "    </tr>\n",
       "    <tr>\n",
       "      <th>98</th>\n",
       "      <td>Nike</td>\n",
       "      <td>1031659</td>\n",
       "      <td>4</td>\n",
       "      <td>2Feb</td>\n",
       "    </tr>\n",
       "    <tr>\n",
       "      <th>99</th>\n",
       "      <td>Nike</td>\n",
       "      <td>2053881</td>\n",
       "      <td>4</td>\n",
       "      <td>4Apr</td>\n",
       "    </tr>\n",
       "  </tbody>\n",
       "</table>\n",
       "<p>100 rows × 4 columns</p>\n",
       "</div>"
      ],
      "text/plain": [
       "     brand    price  qty month\n",
       "0     Puma  1658854    4  4Apr\n",
       "1   Adidas  1713096    3  4Apr\n",
       "2   Adidas  1102786    4  1Jan\n",
       "3   Adidas  1881251    1  2Feb\n",
       "4   Adidas  2246086    3  4Apr\n",
       "..     ...      ...  ...   ...\n",
       "95    Puma   609922    3  7Jul\n",
       "96    Nike  2569791    1  5May\n",
       "97    Puma  1221616    4  7Jul\n",
       "98    Nike  1031659    4  2Feb\n",
       "99    Nike  2053881    4  4Apr\n",
       "\n",
       "[100 rows x 4 columns]"
      ]
     },
     "execution_count": 5,
     "metadata": {},
     "output_type": "execute_result"
    }
   ],
   "source": [
    "df"
   ]
  },
  {
   "cell_type": "code",
   "execution_count": 6,
   "id": "72a07447",
   "metadata": {},
   "outputs": [
    {
     "data": {
      "text/html": [
       "<div>\n",
       "<style scoped>\n",
       "    .dataframe tbody tr th:only-of-type {\n",
       "        vertical-align: middle;\n",
       "    }\n",
       "\n",
       "    .dataframe tbody tr th {\n",
       "        vertical-align: top;\n",
       "    }\n",
       "\n",
       "    .dataframe thead th {\n",
       "        text-align: right;\n",
       "    }\n",
       "</style>\n",
       "<table border=\"1\" class=\"dataframe\">\n",
       "  <thead>\n",
       "    <tr style=\"text-align: right;\">\n",
       "      <th></th>\n",
       "      <th>brand</th>\n",
       "      <th>price</th>\n",
       "      <th>qty</th>\n",
       "      <th>month</th>\n",
       "      <th>total</th>\n",
       "    </tr>\n",
       "  </thead>\n",
       "  <tbody>\n",
       "    <tr>\n",
       "      <th>0</th>\n",
       "      <td>Puma</td>\n",
       "      <td>1658854</td>\n",
       "      <td>4</td>\n",
       "      <td>4Apr</td>\n",
       "      <td>6635416</td>\n",
       "    </tr>\n",
       "    <tr>\n",
       "      <th>1</th>\n",
       "      <td>Adidas</td>\n",
       "      <td>1713096</td>\n",
       "      <td>3</td>\n",
       "      <td>4Apr</td>\n",
       "      <td>5139288</td>\n",
       "    </tr>\n",
       "    <tr>\n",
       "      <th>2</th>\n",
       "      <td>Adidas</td>\n",
       "      <td>1102786</td>\n",
       "      <td>4</td>\n",
       "      <td>1Jan</td>\n",
       "      <td>4411144</td>\n",
       "    </tr>\n",
       "    <tr>\n",
       "      <th>3</th>\n",
       "      <td>Adidas</td>\n",
       "      <td>1881251</td>\n",
       "      <td>1</td>\n",
       "      <td>2Feb</td>\n",
       "      <td>1881251</td>\n",
       "    </tr>\n",
       "    <tr>\n",
       "      <th>4</th>\n",
       "      <td>Adidas</td>\n",
       "      <td>2246086</td>\n",
       "      <td>3</td>\n",
       "      <td>4Apr</td>\n",
       "      <td>6738258</td>\n",
       "    </tr>\n",
       "    <tr>\n",
       "      <th>...</th>\n",
       "      <td>...</td>\n",
       "      <td>...</td>\n",
       "      <td>...</td>\n",
       "      <td>...</td>\n",
       "      <td>...</td>\n",
       "    </tr>\n",
       "    <tr>\n",
       "      <th>95</th>\n",
       "      <td>Puma</td>\n",
       "      <td>609922</td>\n",
       "      <td>3</td>\n",
       "      <td>7Jul</td>\n",
       "      <td>1829766</td>\n",
       "    </tr>\n",
       "    <tr>\n",
       "      <th>96</th>\n",
       "      <td>Nike</td>\n",
       "      <td>2569791</td>\n",
       "      <td>1</td>\n",
       "      <td>5May</td>\n",
       "      <td>2569791</td>\n",
       "    </tr>\n",
       "    <tr>\n",
       "      <th>97</th>\n",
       "      <td>Puma</td>\n",
       "      <td>1221616</td>\n",
       "      <td>4</td>\n",
       "      <td>7Jul</td>\n",
       "      <td>4886464</td>\n",
       "    </tr>\n",
       "    <tr>\n",
       "      <th>98</th>\n",
       "      <td>Nike</td>\n",
       "      <td>1031659</td>\n",
       "      <td>4</td>\n",
       "      <td>2Feb</td>\n",
       "      <td>4126636</td>\n",
       "    </tr>\n",
       "    <tr>\n",
       "      <th>99</th>\n",
       "      <td>Nike</td>\n",
       "      <td>2053881</td>\n",
       "      <td>4</td>\n",
       "      <td>4Apr</td>\n",
       "      <td>8215524</td>\n",
       "    </tr>\n",
       "  </tbody>\n",
       "</table>\n",
       "<p>100 rows × 5 columns</p>\n",
       "</div>"
      ],
      "text/plain": [
       "     brand    price  qty month    total\n",
       "0     Puma  1658854    4  4Apr  6635416\n",
       "1   Adidas  1713096    3  4Apr  5139288\n",
       "2   Adidas  1102786    4  1Jan  4411144\n",
       "3   Adidas  1881251    1  2Feb  1881251\n",
       "4   Adidas  2246086    3  4Apr  6738258\n",
       "..     ...      ...  ...   ...      ...\n",
       "95    Puma   609922    3  7Jul  1829766\n",
       "96    Nike  2569791    1  5May  2569791\n",
       "97    Puma  1221616    4  7Jul  4886464\n",
       "98    Nike  1031659    4  2Feb  4126636\n",
       "99    Nike  2053881    4  4Apr  8215524\n",
       "\n",
       "[100 rows x 5 columns]"
      ]
     },
     "execution_count": 6,
     "metadata": {},
     "output_type": "execute_result"
    }
   ],
   "source": [
    "df['total'] = df['price'] * df['qty']\n",
    "df"
   ]
  },
  {
   "cell_type": "code",
   "execution_count": 7,
   "id": "aa7eaf7b",
   "metadata": {},
   "outputs": [
    {
     "data": {
      "text/html": [
       "<div>\n",
       "<style scoped>\n",
       "    .dataframe tbody tr th:only-of-type {\n",
       "        vertical-align: middle;\n",
       "    }\n",
       "\n",
       "    .dataframe tbody tr th {\n",
       "        vertical-align: top;\n",
       "    }\n",
       "\n",
       "    .dataframe thead th {\n",
       "        text-align: right;\n",
       "    }\n",
       "</style>\n",
       "<table border=\"1\" class=\"dataframe\">\n",
       "  <thead>\n",
       "    <tr style=\"text-align: right;\">\n",
       "      <th></th>\n",
       "      <th>brand</th>\n",
       "      <th>price</th>\n",
       "      <th>qty</th>\n",
       "      <th>month</th>\n",
       "      <th>total</th>\n",
       "    </tr>\n",
       "  </thead>\n",
       "  <tbody>\n",
       "    <tr>\n",
       "      <th>0</th>\n",
       "      <td>Puma</td>\n",
       "      <td>1658854</td>\n",
       "      <td>4</td>\n",
       "      <td>4Apr</td>\n",
       "      <td>6635416</td>\n",
       "    </tr>\n",
       "    <tr>\n",
       "      <th>1</th>\n",
       "      <td>Adidas</td>\n",
       "      <td>1713096</td>\n",
       "      <td>3</td>\n",
       "      <td>4Apr</td>\n",
       "      <td>5139288</td>\n",
       "    </tr>\n",
       "    <tr>\n",
       "      <th>2</th>\n",
       "      <td>Adidas</td>\n",
       "      <td>1102786</td>\n",
       "      <td>4</td>\n",
       "      <td>1Jan</td>\n",
       "      <td>4411144</td>\n",
       "    </tr>\n",
       "    <tr>\n",
       "      <th>3</th>\n",
       "      <td>Adidas</td>\n",
       "      <td>1881251</td>\n",
       "      <td>1</td>\n",
       "      <td>2Feb</td>\n",
       "      <td>1881251</td>\n",
       "    </tr>\n",
       "    <tr>\n",
       "      <th>4</th>\n",
       "      <td>Adidas</td>\n",
       "      <td>2246086</td>\n",
       "      <td>3</td>\n",
       "      <td>4Apr</td>\n",
       "      <td>6738258</td>\n",
       "    </tr>\n",
       "  </tbody>\n",
       "</table>\n",
       "</div>"
      ],
      "text/plain": [
       "    brand    price  qty month    total\n",
       "0    Puma  1658854    4  4Apr  6635416\n",
       "1  Adidas  1713096    3  4Apr  5139288\n",
       "2  Adidas  1102786    4  1Jan  4411144\n",
       "3  Adidas  1881251    1  2Feb  1881251\n",
       "4  Adidas  2246086    3  4Apr  6738258"
      ]
     },
     "execution_count": 7,
     "metadata": {},
     "output_type": "execute_result"
    }
   ],
   "source": [
    "df.head()"
   ]
  },
  {
   "cell_type": "code",
   "execution_count": 8,
   "id": "fb8d770f",
   "metadata": {},
   "outputs": [],
   "source": [
    "order = df.pivot_table(index='month',columns='brand',values='total',aggfunc='sum')"
   ]
  },
  {
   "cell_type": "code",
   "execution_count": 9,
   "id": "53c019e7",
   "metadata": {},
   "outputs": [
    {
     "data": {
      "text/html": [
       "<div>\n",
       "<style scoped>\n",
       "    .dataframe tbody tr th:only-of-type {\n",
       "        vertical-align: middle;\n",
       "    }\n",
       "\n",
       "    .dataframe tbody tr th {\n",
       "        vertical-align: top;\n",
       "    }\n",
       "\n",
       "    .dataframe thead th {\n",
       "        text-align: right;\n",
       "    }\n",
       "</style>\n",
       "<table border=\"1\" class=\"dataframe\">\n",
       "  <thead>\n",
       "    <tr style=\"text-align: right;\">\n",
       "      <th>brand</th>\n",
       "      <th>Adidas</th>\n",
       "      <th>Nike</th>\n",
       "      <th>Puma</th>\n",
       "    </tr>\n",
       "    <tr>\n",
       "      <th>month</th>\n",
       "      <th></th>\n",
       "      <th></th>\n",
       "      <th></th>\n",
       "    </tr>\n",
       "  </thead>\n",
       "  <tbody>\n",
       "    <tr>\n",
       "      <th>1Jan</th>\n",
       "      <td>29371281</td>\n",
       "      <td>12837622</td>\n",
       "      <td>21937756</td>\n",
       "    </tr>\n",
       "    <tr>\n",
       "      <th>2Feb</th>\n",
       "      <td>17498077</td>\n",
       "      <td>6097564</td>\n",
       "      <td>37472062</td>\n",
       "    </tr>\n",
       "    <tr>\n",
       "      <th>3Mar</th>\n",
       "      <td>23780211</td>\n",
       "      <td>14595999</td>\n",
       "      <td>4857690</td>\n",
       "    </tr>\n",
       "    <tr>\n",
       "      <th>4Apr</th>\n",
       "      <td>24003427</td>\n",
       "      <td>19854710</td>\n",
       "      <td>25076431</td>\n",
       "    </tr>\n",
       "    <tr>\n",
       "      <th>5May</th>\n",
       "      <td>15061442</td>\n",
       "      <td>35220075</td>\n",
       "      <td>17194951</td>\n",
       "    </tr>\n",
       "    <tr>\n",
       "      <th>6Jun</th>\n",
       "      <td>3574870</td>\n",
       "      <td>21195375</td>\n",
       "      <td>9767238</td>\n",
       "    </tr>\n",
       "    <tr>\n",
       "      <th>7Jul</th>\n",
       "      <td>13918024</td>\n",
       "      <td>12423725</td>\n",
       "      <td>20402337</td>\n",
       "    </tr>\n",
       "  </tbody>\n",
       "</table>\n",
       "</div>"
      ],
      "text/plain": [
       "brand    Adidas      Nike      Puma\n",
       "month                              \n",
       "1Jan   29371281  12837622  21937756\n",
       "2Feb   17498077   6097564  37472062\n",
       "3Mar   23780211  14595999   4857690\n",
       "4Apr   24003427  19854710  25076431\n",
       "5May   15061442  35220075  17194951\n",
       "6Jun    3574870  21195375   9767238\n",
       "7Jul   13918024  12423725  20402337"
      ]
     },
     "execution_count": 9,
     "metadata": {},
     "output_type": "execute_result"
    }
   ],
   "source": [
    "order"
   ]
  },
  {
   "cell_type": "markdown",
   "id": "e23a7869",
   "metadata": {},
   "source": [
    "## Line Plot With Mathplotlib"
   ]
  },
  {
   "cell_type": "code",
   "execution_count": 10,
   "id": "77a9c4e5",
   "metadata": {},
   "outputs": [],
   "source": [
    "x = order.index\n",
    "y1 = order.Puma\n",
    "y2 = order.Adidas\n",
    "y3 = order.Nike"
   ]
  },
  {
   "cell_type": "code",
   "execution_count": 11,
   "id": "39975076",
   "metadata": {},
   "outputs": [
    {
     "data": {
      "image/png": "[encoded data removed]",
      "text/plain": [
       "<Figure size 1080x360 with 1 Axes>"
      ]
     },
     "metadata": {
      "needs_background": "light"
     },
     "output_type": "display_data"
    }
   ],
   "source": [
    "fig = plt.figure(figsize=(15,5))\n",
    "ax = plt.axes()\n",
    "\n",
    "ax.plot(x,y1,'Red',label='Puma')\n",
    "ax.plot(x,y2,'Blue',label='Adidas')\n",
    "ax.plot(x,y3,'Yellow',label='Nike')\n",
    "\n",
    "plt.xlabel('Month')\n",
    "plt.ylabel('Total')\n",
    "\n",
    "plt.grid()\n",
    "plt.show()"
   ]
  },
  {
   "cell_type": "markdown",
   "id": "98d0e2b1",
   "metadata": {},
   "source": [
    "## Bar Chart With Mathplotlib "
   ]
  },
  {
   "cell_type": "code",
   "execution_count": 12,
   "id": "9791aa26",
   "metadata": {},
   "outputs": [
    {
     "data": {
      "image/png": "[encoded data removed]",
      "text/plain": [
       "<Figure size 936x504 with 1 Axes>"
      ]
     },
     "metadata": {
      "needs_background": "light"
     },
     "output_type": "display_data"
    }
   ],
   "source": [
    "fig = plt.figure(figsize=(13,7))\n",
    "ax = plt.axes()\n",
    "width = 0.3\n",
    "\n",
    "x1 = np.arange(len(x))\n",
    "ax.bar(x1-width/2,y1,width=width,label='Puma')\n",
    "ax.bar(x1+width/2,y2,width=width,label='Adidas')\n",
    "\n",
    "ax.set_xticks(x1)\n",
    "ax.set_xticklabels(x)\n",
    "\n",
    "plt.legend()\n",
    "plt.show()\n",
    "\n"
   ]
  },
  {
   "cell_type": "markdown",
   "id": "ecd6e67f",
   "metadata": {},
   "source": [
    "## Scatter Plot"
   ]
  },
  {
   "cell_type": "code",
   "execution_count": 13,
   "id": "b5d6a1e9",
   "metadata": {},
   "outputs": [],
   "source": [
    "data = {\n",
    "    'uts' : [rd.choice(range(50,100)) for i in range(50)],\n",
    "    'uas' : np.linspace(50,100,50)\n",
    "}"
   ]
  },
  {
   "cell_type": "code",
   "execution_count": 14,
   "id": "9fcdddbb",
   "metadata": {},
   "outputs": [],
   "source": [
    "df2 = pd.DataFrame(data)"
   ]
  },
  {
   "cell_type": "code",
   "execution_count": 15,
   "id": "ed407dbb",
   "metadata": {},
   "outputs": [
    {
     "data": {
      "text/html": [
       "<div>\n",
       "<style scoped>\n",
       "    .dataframe tbody tr th:only-of-type {\n",
       "        vertical-align: middle;\n",
       "    }\n",
       "\n",
       "    .dataframe tbody tr th {\n",
       "        vertical-align: top;\n",
       "    }\n",
       "\n",
       "    .dataframe thead th {\n",
       "        text-align: right;\n",
       "    }\n",
       "</style>\n",
       "<table border=\"1\" class=\"dataframe\">\n",
       "  <thead>\n",
       "    <tr style=\"text-align: right;\">\n",
       "      <th></th>\n",
       "      <th>uts</th>\n",
       "      <th>uas</th>\n",
       "    </tr>\n",
       "  </thead>\n",
       "  <tbody>\n",
       "    <tr>\n",
       "      <th>0</th>\n",
       "      <td>95</td>\n",
       "      <td>50.000000</td>\n",
       "    </tr>\n",
       "    <tr>\n",
       "      <th>1</th>\n",
       "      <td>73</td>\n",
       "      <td>51.020408</td>\n",
       "    </tr>\n",
       "    <tr>\n",
       "      <th>2</th>\n",
       "      <td>86</td>\n",
       "      <td>52.040816</td>\n",
       "    </tr>\n",
       "    <tr>\n",
       "      <th>3</th>\n",
       "      <td>60</td>\n",
       "      <td>53.061224</td>\n",
       "    </tr>\n",
       "    <tr>\n",
       "      <th>4</th>\n",
       "      <td>76</td>\n",
       "      <td>54.081633</td>\n",
       "    </tr>\n",
       "  </tbody>\n",
       "</table>\n",
       "</div>"
      ],
      "text/plain": [
       "   uts        uas\n",
       "0   95  50.000000\n",
       "1   73  51.020408\n",
       "2   86  52.040816\n",
       "3   60  53.061224\n",
       "4   76  54.081633"
      ]
     },
     "execution_count": 15,
     "metadata": {},
     "output_type": "execute_result"
    }
   ],
   "source": [
    "df2.head()"
   ]
  },
  {
   "cell_type": "code",
   "execution_count": 17,
   "id": "55e34a38",
   "metadata": {},
   "outputs": [],
   "source": [
    "a = df2.uts\n",
    "b = df2.uas"
   ]
  },
  {
   "cell_type": "code",
   "execution_count": 19,
   "id": "7b2bc42d",
   "metadata": {},
   "outputs": [
    {
     "data": {
      "image/png": "[encoded data removed]",
      "text/plain": [
       "<Figure size 432x288 with 1 Axes>"
      ]
     },
     "metadata": {
      "needs_background": "light"
     },
     "output_type": "display_data"
    }
   ],
   "source": [
    "fig = plt.figure()\n",
    "plt.scatter(a,b)\n",
    "plt.xlabel('Nilai UTS')\n",
    "plt.ylabel('Nilai UAS')\n",
    "plt.title('Grafik Persebaran Nilai UTS Dan UAS')\n",
    "\n",
    "plt.show()"
   ]
  }
 ],
 "metadata": {
  "kernelspec": {
   "display_name": "Python 3 (ipykernel)",
   "language": "python",
   "name": "python3"
  },
  "language_info": {
   "codemirror_mode": {
    "name": "ipython",
    "version": 3
   },
   "file_extension": ".py",
   "mimetype": "text/x-python",
   "name": "python",
   "nbconvert_exporter": "python",
   "pygments_lexer": "ipython3",
   "version": "3.9.7"
  }
 },
 "nbformat": 4,
 "nbformat_minor": 5
}
