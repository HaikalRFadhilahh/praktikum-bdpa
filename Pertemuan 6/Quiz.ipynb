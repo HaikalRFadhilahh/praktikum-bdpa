{
 "cells": [
  {
   "cell_type": "markdown",
   "id": "b101473a",
   "metadata": {},
   "source": [
    "# Quiz Regresi\n",
    "\n",
    "- Nama : Haikal Raditya Fadhilah\n",
    "- NIM : 21.11.3910\n",
    "- Kelas : Informatika 02\n"
   ]
  },
  {
   "cell_type": "code",
   "execution_count": 1,
   "id": "cfa88b87",
   "metadata": {},
   "outputs": [],
   "source": [
    "import pandas as pd\n",
    "import seaborn as sns\n",
    "from sklearn import metrics\n",
    "from sklearn.linear_model import LinearRegression\n",
    "from sklearn.model_selection import train_test_split\n",
    "from matplotlib import pyplot as plt\n",
    "import numpy as np"
   ]
  },
  {
   "cell_type": "code",
   "execution_count": 8,
   "id": "bb87c0ae",
   "metadata": {},
   "outputs": [
    {
     "data": {
      "text/html": [
       "<div>\n",
       "<style scoped>\n",
       "    .dataframe tbody tr th:only-of-type {\n",
       "        vertical-align: middle;\n",
       "    }\n",
       "\n",
       "    .dataframe tbody tr th {\n",
       "        vertical-align: top;\n",
       "    }\n",
       "\n",
       "    .dataframe thead th {\n",
       "        text-align: right;\n",
       "    }\n",
       "</style>\n",
       "<table border=\"1\" class=\"dataframe\">\n",
       "  <thead>\n",
       "    <tr style=\"text-align: right;\">\n",
       "      <th></th>\n",
       "      <th>Bulan Tanam</th>\n",
       "      <th>Luas Panen (X1)</th>\n",
       "      <th>Curah Hujan (X2)</th>\n",
       "      <th>Hama (X3)</th>\n",
       "      <th>Hasil Panen</th>\n",
       "    </tr>\n",
       "  </thead>\n",
       "  <tbody>\n",
       "    <tr>\n",
       "      <th>0</th>\n",
       "      <td>Jan – Apr 2009</td>\n",
       "      <td>14210</td>\n",
       "      <td>Baik (10)</td>\n",
       "      <td>10.70%</td>\n",
       "      <td>91862</td>\n",
       "    </tr>\n",
       "    <tr>\n",
       "      <th>1</th>\n",
       "      <td>Mei – Ags 2009</td>\n",
       "      <td>10863</td>\n",
       "      <td>Kurang (-20)</td>\n",
       "      <td>12%</td>\n",
       "      <td>68244</td>\n",
       "    </tr>\n",
       "    <tr>\n",
       "      <th>2</th>\n",
       "      <td>Sep – Des 2009</td>\n",
       "      <td>3185</td>\n",
       "      <td>Kurang (-20)</td>\n",
       "      <td>11.90%</td>\n",
       "      <td>22737</td>\n",
       "    </tr>\n",
       "    <tr>\n",
       "      <th>3</th>\n",
       "      <td>Jan – Apr 2010</td>\n",
       "      <td>12254</td>\n",
       "      <td>Baik (10)</td>\n",
       "      <td>5.90%</td>\n",
       "      <td>81121</td>\n",
       "    </tr>\n",
       "    <tr>\n",
       "      <th>4</th>\n",
       "      <td>Mei – Ags 2010</td>\n",
       "      <td>11851</td>\n",
       "      <td>Kurang (-20)</td>\n",
       "      <td>75%</td>\n",
       "      <td>63034</td>\n",
       "    </tr>\n",
       "  </tbody>\n",
       "</table>\n",
       "</div>"
      ],
      "text/plain": [
       "      Bulan Tanam  Luas Panen (X1) Curah Hujan (X2) Hama (X3)  Hasil Panen\n",
       "0  Jan – Apr 2009            14210        Baik (10)    10.70%        91862\n",
       "1  Mei – Ags 2009            10863     Kurang (-20)       12%        68244\n",
       "2  Sep – Des 2009             3185     Kurang (-20)    11.90%        22737\n",
       "3  Jan – Apr 2010            12254        Baik (10)     5.90%        81121\n",
       "4  Mei – Ags 2010            11851     Kurang (-20)       75%        63034"
      ]
     },
     "execution_count": 8,
     "metadata": {},
     "output_type": "execute_result"
    }
   ],
   "source": [
    "# Membaca Datasets\n",
    "df = pd.read_csv('./datapadi.csv',sep=';')\n",
    "df.head()"
   ]
  },
  {
   "cell_type": "code",
   "execution_count": 3,
   "id": "3851102e",
   "metadata": {},
   "outputs": [
    {
     "data": {
      "text/plain": [
       "Bulan Tanam         object\n",
       "Luas Panen (X1)      int64\n",
       "Curah Hujan (X2)    object\n",
       "Hama (X3)           object\n",
       "Hasil Panen          int64\n",
       "dtype: object"
      ]
     },
     "execution_count": 3,
     "metadata": {},
     "output_type": "execute_result"
    }
   ],
   "source": [
    "# Melihat Tipe Data Setiap Colom\n",
    "df.dtypes"
   ]
  },
  {
   "cell_type": "code",
   "execution_count": 9,
   "id": "5e46ff9e",
   "metadata": {},
   "outputs": [],
   "source": [
    "# Convert Percent To Float\n",
    "df['Hama (X3)'] = df['Hama (X3)'].str.rstrip('%').astype('float')"
   ]
  },
  {
   "cell_type": "code",
   "execution_count": 12,
   "id": "f78fcea2",
   "metadata": {},
   "outputs": [
    {
     "data": {
      "text/plain": [
       "0        Baik (10)\n",
       "1     Kurang (-20)\n",
       "2     Kurang (-20)\n",
       "3        Baik (10)\n",
       "4     Kurang (-20)\n",
       "5        Baik (10)\n",
       "6        Baik (10)\n",
       "7     Kurang (-20)\n",
       "8        Baik (10)\n",
       "9        Baik (10)\n",
       "10    Optimal (20)\n",
       "11      Normal (0)\n",
       "12       Baik (10)\n",
       "13    Kurang (-20)\n",
       "14      Normal (0)\n",
       "15       Baik (10)\n",
       "16       Baik (10)\n",
       "17    Kurang (-20)\n",
       "18       Baik (10)\n",
       "19    Kurang (-20)\n",
       "20    Optimal (20)\n",
       "21       Baik (10)\n",
       "22    Kurang (-20)\n",
       "23      Normal (0)\n",
       "24    Optimal (20)\n",
       "25    Kurang (-20)\n",
       "26    Kurang (-20)\n",
       "Name: Curah Hujan (X2), dtype: object"
      ]
     },
     "execution_count": 12,
     "metadata": {},
     "output_type": "execute_result"
    }
   ],
   "source": [
    "df['Curah Hujan (X2)']"
   ]
  },
  {
   "cell_type": "code",
   "execution_count": 11,
   "id": "585f70cd",
   "metadata": {},
   "outputs": [
    {
     "data": {
      "text/plain": [
       "<AxesSubplot:>"
      ]
     },
     "execution_count": 11,
     "metadata": {},
     "output_type": "execute_result"
    },
    {
     "data": {
      "image/png": "[encoded data removed]",
      "text/plain": [
       "<Figure size 720x432 with 2 Axes>"
      ]
     },
     "metadata": {
      "needs_background": "light"
     },
     "output_type": "display_data"
    }
   ],
   "source": [
    "# Menampilkan Diagram Korelasi\n",
    "plt.figure(figsize=(10,6))\n",
    "correlation = df.corr()\n",
    "sns.heatmap(correlation,annot=True,fmt='.2f')"
   ]
  },
  {
   "cell_type": "code",
   "execution_count": 15,
   "id": "a5f5f809",
   "metadata": {},
   "outputs": [],
   "source": [
    "# Membuat Varible X Dan Y\n",
    "varBebas = ['Luas Panen (X1)','Hama (X3)']\n",
    "X = df[varBebas]\n",
    "y = df['Hasil Panen']"
   ]
  },
  {
   "cell_type": "code",
   "execution_count": 16,
   "id": "2fc17555",
   "metadata": {},
   "outputs": [],
   "source": [
    "# Memisah Dataset Menjadi 2 Yaitu Train Dan Test\n",
    "X_train,X_test,y_train,y_test = train_test_split(X, y, test_size=0.25, random_state=100);"
   ]
  },
  {
   "cell_type": "code",
   "execution_count": 19,
   "id": "c0c323a1",
   "metadata": {},
   "outputs": [
    {
     "name": "stdout",
     "output_type": "stream",
     "text": [
      "Jumlah Data Train X : (20, 2)\n",
      "Jumlah Data Test X : (7, 2)\n",
      "Jumlah Data Train y : (20,)\n",
      "Jumlah Data Test y : (7,)\n"
     ]
    }
   ],
   "source": [
    "# Cek Data Train Dan Test\n",
    "print(\"Jumlah Data Train X :\",X_train.shape)\n",
    "print(\"Jumlah Data Test X :\",X_test.shape)\n",
    "print(\"Jumlah Data Train y :\",y_train.shape)\n",
    "print(\"Jumlah Data Test y :\",y_test.shape)"
   ]
  },
  {
   "cell_type": "code",
   "execution_count": 21,
   "id": "39461b1a",
   "metadata": {},
   "outputs": [
    {
     "data": {
      "text/plain": [
       "LinearRegression()"
      ]
     },
     "execution_count": 21,
     "metadata": {},
     "output_type": "execute_result"
    }
   ],
   "source": [
    "# Mencari Linear Regresi\n",
    "regres = LinearRegression()\n",
    "regres.fit(X_train,y_train)"
   ]
  },
  {
   "cell_type": "code",
   "execution_count": 22,
   "id": "a13c95d0",
   "metadata": {},
   "outputs": [
    {
     "name": "stdout",
     "output_type": "stream",
     "text": [
      "Nilai Intercept : 7980.419203718309\n",
      "Nilai Coef : [   6.05059728 -238.54737005]\n"
     ]
    }
   ],
   "source": [
    "# Mencari Nilai Coef Dan Intercept\n",
    "print(\"Nilai Intercept :\",regres.intercept_)\n",
    "print(\"Nilai Coef :\",regres.coef_)"
   ]
  },
  {
   "cell_type": "code",
   "execution_count": 23,
   "id": "821d5928",
   "metadata": {},
   "outputs": [],
   "source": [
    "# Evaluasi Model Regresi\n",
    "pred = regres.predict(X_test)\n",
    "rmse = np.sqrt(metrics.mean_squared_error(np.array(y_test),pred))"
   ]
  },
  {
   "cell_type": "code",
   "execution_count": 25,
   "id": "46ebd69d",
   "metadata": {},
   "outputs": [
    {
     "name": "stdout",
     "output_type": "stream",
     "text": [
      "Nilai Root Mean Square Error Adalah :  1016.0560209063611\n"
     ]
    }
   ],
   "source": [
    "# Nilai Evaluasi\n",
    "print(\"Nilai Root Mean Square Error Adalah : \",rmse)"
   ]
  }
 ],
 "metadata": {
  "kernelspec": {
   "display_name": "Python 3 (ipykernel)",
   "language": "python",
   "name": "python3"
  },
  "language_info": {
   "codemirror_mode": {
    "name": "ipython",
    "version": 3
   },
   "file_extension": ".py",
   "mimetype": "text/x-python",
   "name": "python",
   "nbconvert_exporter": "python",
   "pygments_lexer": "ipython3",
   "version": "3.9.7"
  }
 },
 "nbformat": 4,
 "nbformat_minor": 5
}
